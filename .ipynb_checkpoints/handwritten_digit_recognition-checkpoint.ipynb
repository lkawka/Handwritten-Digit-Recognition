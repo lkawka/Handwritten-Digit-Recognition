{
 "cells": [
  {
   "cell_type": "markdown",
   "metadata": {},
   "source": [
    "## Importing modules"
   ]
  },
  {
   "cell_type": "code",
   "execution_count": 1,
   "metadata": {},
   "outputs": [
    {
     "name": "stderr",
     "output_type": "stream",
     "text": [
      "Using TensorFlow backend.\n"
     ]
    }
   ],
   "source": [
    "import numpy\n",
    "from keras.datasets import mnist\n",
    "from keras.models import Sequential\n",
    "from keras.layers import Dense\n",
    "from keras.layers import Dropout\n",
    "from keras.layers import Flatten\n",
    "from keras.layers.convolutional import Conv2D\n",
    "from keras.layers.convolutional import MaxPooling2D\n",
    "from keras.utils import np_utils\n",
    "from keras import backend as K\n",
    "K.set_image_dim_ordering('th')"
   ]
  },
  {
   "cell_type": "markdown",
   "metadata": {},
   "source": [
    "## Getting and formatting data"
   ]
  },
  {
   "cell_type": "code",
   "execution_count": 2,
   "metadata": {},
   "outputs": [],
   "source": [
    "# fix random seed for reproducibility\n",
    "seed = 89236\n",
    "numpy.random.seed(seed)\n",
    "\n",
    "# load MNIST data\n",
    "(X_train, y_train), (X_test, y_test) = mnist.load_data()\n",
    "\n",
    "# reshape to be [samples][pixels][width][height]\n",
    "# force pixel presition values to be 32bit\n",
    "X_train = X_train.reshape(X_train.shape[0], 1, 28, 28).astype('float32')\n",
    "X_test = X_test.reshape(X_test.shape[0], 1, 28, 28).astype('float32')\n",
    "\n",
    "# normalize inputs from 0-255 to 0-1\n",
    "X_train = X_train / 255\n",
    "X_test = X_test / 255\n",
    "\n",
    "# one hot encode outputs\n",
    "y_train = np_utils.to_categorical(y_train)\n",
    "y_test = np_utils.to_categorical(y_test)\n",
    "num_classes = y_test.shape[1]"
   ]
  },
  {
   "cell_type": "markdown",
   "metadata": {},
   "source": [
    "## Defining a model"
   ]
  },
  {
   "cell_type": "code",
   "execution_count": 15,
   "metadata": {},
   "outputs": [
    {
     "name": "stdout",
     "output_type": "stream",
     "text": [
      "_________________________________________________________________\n",
      "Layer (type)                 Output Shape              Param #   \n",
      "=================================================================\n",
      "conv2d_11 (Conv2D)           (None, 30, 24, 24)        780       \n",
      "_________________________________________________________________\n",
      "max_pooling2d_9 (MaxPooling2 (None, 30, 12, 12)        0         \n",
      "_________________________________________________________________\n",
      "conv2d_12 (Conv2D)           (None, 15, 10, 10)        4065      \n",
      "_________________________________________________________________\n",
      "max_pooling2d_10 (MaxPooling (None, 15, 5, 5)          0         \n",
      "_________________________________________________________________\n",
      "dropout_6 (Dropout)          (None, 15, 5, 5)          0         \n",
      "_________________________________________________________________\n",
      "flatten_6 (Flatten)          (None, 375)               0         \n",
      "_________________________________________________________________\n",
      "dense_14 (Dense)             (None, 128)               48128     \n",
      "_________________________________________________________________\n",
      "dense_15 (Dense)             (None, 50)                6450      \n",
      "_________________________________________________________________\n",
      "dense_16 (Dense)             (None, 10)                510       \n",
      "=================================================================\n",
      "Total params: 59,933\n",
      "Trainable params: 59,933\n",
      "Non-trainable params: 0\n",
      "_________________________________________________________________\n",
      "None\n"
     ]
    }
   ],
   "source": [
    "def network_model():\n",
    "\t# Create model\n",
    "\tmodel = Sequential()\n",
    "\tmodel.add(Conv2D(30, (5, 5), input_shape=(1, 28, 28), activation='relu'))\n",
    "\tmodel.add(MaxPooling2D(pool_size=(2, 2)))\n",
    "\tmodel.add(Conv2D(15, (3, 3), activation='relu'))\n",
    "\tmodel.add(MaxPooling2D(pool_size=(2, 2)))\n",
    "\tmodel.add(Dropout(0.2))\n",
    "\tmodel.add(Flatten())\n",
    "\tmodel.add(Dense(128, activation='relu'))\n",
    "\tmodel.add(Dense(50, activation='relu'))\n",
    "\tmodel.add(Dense(num_classes, activation='softmax'))\n",
    "\t# Compile model\n",
    "\tmodel.compile(loss='categorical_crossentropy', optimizer='adam', metrics=['accuracy'])\n",
    "\treturn model\n",
    "\n",
    "example_model = network_model()\n",
    "print(example_model.summary())"
   ]
  },
  {
   "cell_type": "markdown",
   "metadata": {},
   "source": [
    "## Training and assessing the model"
   ]
  },
  {
   "cell_type": "code",
   "execution_count": 14,
   "metadata": {
    "scrolled": true
   },
   "outputs": [
    {
     "name": "stdout",
     "output_type": "stream",
     "text": [
      "Train on 60000 samples, validate on 10000 samples\n",
      "Epoch 1/10\n",
      "60000/60000 [==============================] - 164s 3ms/step - loss: 0.3990 - acc: 0.8757 - val_loss: 0.0875 - val_acc: 0.9743\n",
      "Epoch 2/10\n",
      "60000/60000 [==============================] - 157s 3ms/step - loss: 0.0980 - acc: 0.9697 - val_loss: 0.0531 - val_acc: 0.9830\n",
      "Epoch 3/10\n",
      "60000/60000 [==============================] - 160s 3ms/step - loss: 0.0734 - acc: 0.9770 - val_loss: 0.0397 - val_acc: 0.9871\n",
      "Epoch 4/10\n",
      "60000/60000 [==============================] - 152s 3ms/step - loss: 0.0591 - acc: 0.9820 - val_loss: 0.0337 - val_acc: 0.9884\n",
      "Epoch 5/10\n",
      "60000/60000 [==============================] - 160s 3ms/step - loss: 0.0481 - acc: 0.9848 - val_loss: 0.0285 - val_acc: 0.9904\n",
      "Epoch 6/10\n",
      "60000/60000 [==============================] - 162s 3ms/step - loss: 0.0437 - acc: 0.9868 - val_loss: 0.0288 - val_acc: 0.9915\n",
      "Epoch 7/10\n",
      "60000/60000 [==============================] - 156s 3ms/step - loss: 0.0379 - acc: 0.9879 - val_loss: 0.0297 - val_acc: 0.9901\n",
      "Epoch 8/10\n",
      "60000/60000 [==============================] - 158s 3ms/step - loss: 0.0344 - acc: 0.9893 - val_loss: 0.0273 - val_acc: 0.9913\n",
      "Epoch 9/10\n",
      "60000/60000 [==============================] - 150s 2ms/step - loss: 0.0311 - acc: 0.9903 - val_loss: 0.0268 - val_acc: 0.9916\n",
      "Epoch 10/10\n",
      "60000/60000 [==============================] - 157s 3ms/step - loss: 0.0288 - acc: 0.9907 - val_loss: 0.0331 - val_acc: 0.9888\n",
      "10000/10000 [==============================] - 14s 1ms/step\n",
      "Success rate: 98.880000%\n"
     ]
    }
   ],
   "source": [
    "model = network_model()\n",
    "# Fit the model\n",
    "model.fit(X_train, y_train, validation_data=(X_test, y_test), epochs=10, batch_size=200, verbose=1)\n",
    "# Final evaluation of the model\n",
    "scores = model.evaluate(X_test, y_test, verbose=1)\n",
    "print(\"Success rate: %.6f%%\" % (scores[1]*100))"
   ]
  },
  {
   "cell_type": "code",
   "execution_count": null,
   "metadata": {},
   "outputs": [],
   "source": []
  }
 ],
 "metadata": {
  "kernelspec": {
   "display_name": "Python 3",
   "language": "python",
   "name": "python3"
  },
  "language_info": {
   "codemirror_mode": {
    "name": "ipython",
    "version": 3
   },
   "file_extension": ".py",
   "mimetype": "text/x-python",
   "name": "python",
   "nbconvert_exporter": "python",
   "pygments_lexer": "ipython3",
   "version": "3.6.4"
  }
 },
 "nbformat": 4,
 "nbformat_minor": 2
}
